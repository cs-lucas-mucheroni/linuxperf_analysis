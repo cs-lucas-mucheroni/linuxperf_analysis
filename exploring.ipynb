{
 "cells": [
  {
   "cell_type": "markdown",
   "metadata": {},
   "source": [
    "# Setup\n",
    "\n",
    "Let's import some useful libs and configure the basics parameters.\n",
    "\n",
    "Then, we need to import the CSV files into datasets."
   ]
  },
  {
   "cell_type": "code",
   "execution_count": null,
   "metadata": {},
   "outputs": [],
   "source": [
    "import pandas as pd  # to create the datasets\n",
    "import matplotlib.pyplot as plt  # to plot graphics"
   ]
  },
  {
   "cell_type": "code",
   "execution_count": null,
   "metadata": {},
   "outputs": [],
   "source": [
    "# Defining teh default options for our plots\n",
    "%matplotlib inline\n",
    "plt.rcParams['figure.figsize'] = (18,6)"
   ]
  },
  {
   "cell_type": "markdown",
   "metadata": {},
   "source": [
    "Importing the files into CSV files and checking the first lines:"
   ]
  },
  {
   "cell_type": "code",
   "execution_count": null,
   "metadata": {},
   "outputs": [],
   "source": [
    "vmstat = pd.read_csv('./vmstat.csv')\n",
    "vmstat.head()"
   ]
  },
  {
   "cell_type": "code",
   "execution_count": null,
   "metadata": {},
   "outputs": [],
   "source": [
    "pidstat = pd.read_csv('./pidstat.csv')\n",
    "pidstat.head()"
   ]
  },
  {
   "cell_type": "markdown",
   "metadata": {},
   "source": [
    "# Exploring the datasets\n",
    "\n",
    "We have to take a look on both datasets and identify possible missing values, importing errors or other strange behaviors and understand each feature.\n",
    "\n",
    "The pidstat dataset has a Time column in Unix Epoch format. It is necessary to convert to standard time."
   ]
  },
  {
   "cell_type": "code",
   "execution_count": null,
   "metadata": {},
   "outputs": [],
   "source": [
    "print('Datasets Shapes\\n' + '-' * 20)\n",
    "for ds in ['pidstat', 'vmstat']:\n",
    "    print(ds, eval(ds).shape)"
   ]
  },
  {
   "cell_type": "code",
   "execution_count": null,
   "metadata": {},
   "outputs": [],
   "source": [
    "vmstat['datetime'] = pd.to_datetime(vmstat['date'].astype(str) + ' ' + vmstat['time'])\n",
    "vmstat['datetime'] = vmstat['datetime'].dt.tz_localize('UTC').dt.tz_convert('America/Sao_Paulo')\n",
    "vmstat['datetime'] = vmstat['datetime'] + pd.Timedelta('03:00:00')\n",
    "print(vmstat['datetime'].dtypes)\n",
    "vmstat.head()"
   ]
  },
  {
   "cell_type": "code",
   "execution_count": null,
   "metadata": {},
   "outputs": [],
   "source": [
    "pidstat['Time'] = pd.to_datetime(pidstat['Time'], unit='s', origin='unix')\n",
    "pidstat['Time'] = pidstat['Time'].dt.tz_localize('UTC').dt.tz_convert('America/Sao_Paulo')\n",
    "print(pidstat['Time'].dtypes)\n",
    "pidstat.head()"
   ]
  },
  {
   "cell_type": "markdown",
   "metadata": {},
   "source": [
    "# Studying Pidstat"
   ]
  },
  {
   "cell_type": "code",
   "execution_count": null,
   "metadata": {},
   "outputs": [],
   "source": [
    "pidstat.Command.describe()"
   ]
  },
  {
   "cell_type": "code",
   "execution_count": null,
   "metadata": {},
   "outputs": [],
   "source": [
    "# Top 15 most frequent commands\n",
    "pidstat.Command.value_counts()[:15,]"
   ]
  },
  {
   "cell_type": "code",
   "execution_count": null,
   "metadata": {},
   "outputs": [],
   "source": [
    "# What is the most intense process on kernel ring?\n",
    "# Let's calculate the average Kernel CPU usage for each command and\n",
    "# print a list with the TOP 5\n",
    "g_pidstat = pidstat.groupby('Command')\n",
    "\n",
    "top5_kernel = g_pidstat['%system'].mean().sort_values(ascending=False)[:5,]\n",
    "print(top5_kernel)\n",
    "\n",
    "fig, ax = plt.subplots()\n",
    "x_pos = pd.np.arange(5)\n",
    "ax.bar(x_pos, top5_kernel.values)\n",
    "ax.set_xticks(x_pos)\n",
    "ax.set_xticklabels(list(top5_kernel.index))\n",
    "plt.show()"
   ]
  },
  {
   "cell_type": "code",
   "execution_count": null,
   "metadata": {},
   "outputs": [],
   "source": [
    "# And the Top 5 process consiming resources on User ring\n",
    "\n",
    "top5_user = g_pidstat['%usr'].mean().sort_values(ascending=False)[:5,]\n",
    "print(top5_user)\n",
    "\n",
    "fig, ax = plt.subplots()\n",
    "x_pos = pd.np.arange(5)\n",
    "ax.bar(x_pos, top5_user.values)\n",
    "ax.set_xticks(x_pos)\n",
    "ax.set_xticklabels(list(top5_user.index))\n",
    "plt.show()"
   ]
  },
  {
   "cell_type": "markdown",
   "metadata": {},
   "source": [
    "# Studying Vmstat"
   ]
  },
  {
   "cell_type": "code",
   "execution_count": null,
   "metadata": {},
   "outputs": [],
   "source": [
    "# Let's preview it again to remember the features\n",
    "vmstat.head()"
   ]
  },
  {
   "cell_type": "code",
   "execution_count": null,
   "metadata": {},
   "outputs": [],
   "source": [
    "# I would like to see more details about IO\n",
    "io_info = vmstat.loc[:, ['dsk_read', 'dsk_write', 'datetime']]\n",
    "n_rows = len(io_info)\n",
    "\n",
    "fig, ax = plt.subplots()\n",
    "\n",
    "ax.plot(io_info['dsk_write'], color='darkred')\n",
    "ax.plot(io_info['dsk_read'], color='blue', alpha=0.5)\n",
    "\n",
    "ax.legend()\n",
    "\n",
    "plt.show()"
   ]
  },
  {
   "cell_type": "markdown",
   "metadata": {},
   "source": [
    "# Cross Data Checking\n",
    "\n",
    "The last graph is showing some peaks in read and write.\n",
    "\n",
    "It would be a good idea to verify the time they occured and lookup the process running.\n",
    "\n",
    "To acomplish this task we will need to compare data in two different datasets."
   ]
  },
  {
   "cell_type": "code",
   "execution_count": null,
   "metadata": {},
   "outputs": [],
   "source": [
    "# Finding the disk io peaks\n",
    "top_5_read = io_info.sort_values(by='dsk_read', ascending=False)[:5]\n",
    "top_5_write = io_info.sort_values(by='dsk_write', ascending=False)[:5]\n",
    "print(top_5_read, '\\n\\n', top_5_write)"
   ]
  },
  {
   "cell_type": "code",
   "execution_count": null,
   "metadata": {},
   "outputs": [],
   "source": [
    "reads = pidstat.loc[pidstat['Time'].isin(top_5_read['datetime'])]\n",
    "writes = pidstat.loc[pidstat['Time'].isin(top_5_write['datetime'])]"
   ]
  },
  {
   "cell_type": "code",
   "execution_count": null,
   "metadata": {},
   "outputs": [],
   "source": [
    "reads.sort_values(by=['%wait','%CPU'], ascending=False)[:5]"
   ]
  },
  {
   "cell_type": "code",
   "execution_count": null,
   "metadata": {},
   "outputs": [],
   "source": [
    "writes.sort_values(by=['%wait','%CPU'], ascending=False)[:5]"
   ]
  }
 ],
 "metadata": {
  "kernelspec": {
   "display_name": "Python 3",
   "language": "python",
   "name": "python3"
  },
  "language_info": {
   "codemirror_mode": {
    "name": "ipython",
    "version": 3
   },
   "file_extension": ".py",
   "mimetype": "text/x-python",
   "name": "python",
   "nbconvert_exporter": "python",
   "pygments_lexer": "ipython3",
   "version": "3.6.5"
  }
 },
 "nbformat": 4,
 "nbformat_minor": 2
}
